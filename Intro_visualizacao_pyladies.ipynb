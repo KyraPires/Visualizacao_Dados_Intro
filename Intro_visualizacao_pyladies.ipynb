{
  "nbformat": 4,
  "nbformat_minor": 0,
  "metadata": {
    "colab": {
      "name": "Intro_visualizacao_pyladies.ipynb",
      "provenance": [],
      "collapsed_sections": [],
      "include_colab_link": true
    },
    "kernelspec": {
      "display_name": "Python 3",
      "language": "python",
      "name": "python3"
    },
    "language_info": {
      "codemirror_mode": {
        "name": "ipython",
        "version": 3
      },
      "file_extension": ".py",
      "mimetype": "text/x-python",
      "name": "python",
      "nbconvert_exporter": "python",
      "pygments_lexer": "ipython3",
      "version": "3.8.3"
    }
  },
  "cells": [
    {
      "cell_type": "markdown",
      "metadata": {
        "id": "view-in-github",
        "colab_type": "text"
      },
      "source": [
        "<a href=\"https://colab.research.google.com/github/KyraPires/Visualizacao_Dados_Intro/blob/main/Intro_visualizacao_pyladies.ipynb\" target=\"_parent\"><img src=\"https://colab.research.google.com/assets/colab-badge.svg\" alt=\"Open In Colab\"/></a>"
      ]
    },
    {
      "cell_type": "markdown",
      "metadata": {
        "id": "U2CX6C0Yrvx4"
      },
      "source": [
        "# $ \\Large \\color{orange}{Introdução \\, a \\, Visualização \\, de \\, Dados\\, com \\,Python}$"
      ]
    },
    {
      "cell_type": "markdown",
      "metadata": {
        "id": "CaYW4pYu7Xz4"
      },
      "source": [
        "# Qual a importância dos dados?\n",
        "\n",
        "Os dados contam histórias, é um resumo visual dos seus dados. E a forma como você conta essa história dependende do gráfico que você escolhe. Mas os gráficos nem sempre podem representar a história que você quer contar. E é aí q mora o perigo porque você não quer esconder a verdade e nem deixar as pessoas confusas. Por isso devemos nos atentar muito ao tipo de gráfico que iremos utlizar para comunicar as informações dos nossos dados sem que eles fiquem dúbios."
      ]
    },
    {
      "cell_type": "markdown",
      "metadata": {
        "id": "xxS-ExFZ_siz"
      },
      "source": [
        "## Conhecendo um gráfico\n",
        "\n",
        "Vamos começar entendendo a estrutura de um gráfico. Isso nos ajuda a entender melhor a plotagem do nossos dados.\n",
        " \n",
        "\n",
        "<center><img src=\"https://raw.githubusercontent.com/KyraPires/Visualizacao_Dados_Intro/main/img/estrutura%20de%20um%20gr%C3%A1fico.png\" height=\"400px\"></center>\n",
        "\n",
        "Podemos observar que o objeto mais externo do plot é o tipo `Figure` e em seu interior existe o objeto do tipo `Axes`. Que é o gráfico propriamente dito. Dentro de cada Axes temos a área do nosso plot que contém objetos menores do tipo título, ticks, textos e legendas.\n",
        "\n",
        "Aqui pode haver um pouco de confusão em relação aos termos `Axe` e `Axis`. *Axes* se refere a área em que o gráfico está plotado. Dentro do objeto *Figure* pode haver um ou mais *Axes*. Já o termo *Axis* se refere ao eixo X e Y de um gráfico.\n",
        "\n",
        "\n",
        "Logo mais abaixo podemos ver com mais detalhes e assim se aprofundar mais nas nomenclaturas de um gráfico.\n",
        "\n",
        "\n"
      ]
    },
    {
      "cell_type": "code",
      "metadata": {
        "id": "Xf6YeVbarvyG",
        "colab": {
          "base_uri": "https://localhost:8080/",
          "height": 555
        },
        "cellView": "form",
        "outputId": "4a140f5f-9092-4ce5-f568-0a8757edce3d"
      },
      "source": [
        "#@title\n",
        "# This figure shows the name of several matplotlib elements composing a figure\n",
        "import numpy as np\n",
        "import matplotlib.pyplot as plt\n",
        "from matplotlib.ticker import AutoMinorLocator, MultipleLocator, FuncFormatter\n",
        "\n",
        "np.random.seed(19680801)\n",
        "\n",
        "X = np.linspace(0.5, 3.5, 100)\n",
        "Y1 = 3+np.cos(X)\n",
        "Y2 = 1+np.cos(1+X/0.75)/2\n",
        "Y3 = np.random.uniform(Y1, Y2, len(X))\n",
        "\n",
        "fig = plt.figure(figsize=(8, 8))\n",
        "ax = fig.add_subplot(1, 1, 1, aspect=1)\n",
        "\n",
        "\n",
        "def minor_tick(x, pos):\n",
        "    if not x % 1.0:\n",
        "        return \"\"\n",
        "    return f\"{x:.2f}\"\n",
        "\n",
        "ax.xaxis.set_major_locator(MultipleLocator(1.000))\n",
        "ax.xaxis.set_minor_locator(AutoMinorLocator(4))\n",
        "ax.yaxis.set_major_locator(MultipleLocator(1.000))\n",
        "ax.yaxis.set_minor_locator(AutoMinorLocator(4))\n",
        "# FuncFormatter is created and used automatically\n",
        "ax.xaxis.set_minor_formatter(FuncFormatter(minor_tick))\n",
        "\n",
        "ax.set_xlim(0, 4)\n",
        "ax.set_ylim(0, 4)\n",
        "\n",
        "ax.tick_params(which='major', width=1.0)\n",
        "ax.tick_params(which='major', length=10)\n",
        "ax.tick_params(which='minor', width=1.0, labelsize=10)\n",
        "ax.tick_params(which='minor', length=5, labelsize=10, labelcolor='0.25')\n",
        "\n",
        "ax.grid(linestyle=\"--\", linewidth=0.5, color='.25', zorder=-10)\n",
        "\n",
        "ax.plot(X, Y1, c=(0.25, 0.25, 1.00), lw=2, label=\"Blue signal\", zorder=10)\n",
        "ax.plot(X, Y2, c=(1.00, 0.25, 0.25), lw=2, label=\"Red signal\")\n",
        "ax.plot(X, Y3, linewidth=0,\n",
        "        marker='o', markerfacecolor='w', markeredgecolor='k')\n",
        "\n",
        "ax.set_title(\"Anatomy of a figure\", fontsize=20, verticalalignment='bottom')\n",
        "ax.set_xlabel(\"X axis label\")\n",
        "ax.set_ylabel(\"Y axis label\")\n",
        "\n",
        "ax.legend()\n",
        "\n",
        "\n",
        "def circle(x, y, radius=0.15):\n",
        "    from matplotlib.patches import Circle\n",
        "    from matplotlib.patheffects import withStroke\n",
        "    circle = Circle((x, y), radius, clip_on=False, zorder=10, linewidth=1,\n",
        "                    edgecolor='black', facecolor=(0, 0, 0, .0125),\n",
        "                    path_effects=[withStroke(linewidth=5, foreground='w')])\n",
        "    ax.add_artist(circle)\n",
        "\n",
        "\n",
        "def text(x, y, text):\n",
        "    ax.text(x, y, text, backgroundcolor=\"white\",\n",
        "            ha='center', va='top', weight='bold', color='blue')\n",
        "\n",
        "\n",
        "# Minor tick\n",
        "circle(0.50, -0.10)\n",
        "text(0.50, -0.32, \"Minor tick label\")\n",
        "\n",
        "# Major tick\n",
        "circle(-0.03, 4.00)\n",
        "text(0.03, 3.80, \"Major tick\")\n",
        "\n",
        "# Minor tick\n",
        "circle(0.00, 3.50)\n",
        "text(0.00, 3.30, \"Minor tick\")\n",
        "\n",
        "# Major tick label\n",
        "circle(-0.15, 3.00)\n",
        "text(-0.15, 2.80, \"Major tick label\")\n",
        "\n",
        "# X Label\n",
        "circle(1.80, -0.27)\n",
        "text(1.80, -0.45, \"X axis label\")\n",
        "\n",
        "# Y Label\n",
        "circle(-0.27, 1.80)\n",
        "text(-0.27, 1.6, \"Y axis label\")\n",
        "\n",
        "# Title\n",
        "circle(1.60, 4.13)\n",
        "text(1.60, 3.93, \"Title\")\n",
        "\n",
        "# Blue plot\n",
        "circle(1.75, 2.80)\n",
        "text(1.75, 2.60, \"Line\\n(line plot)\")\n",
        "\n",
        "# Red plot\n",
        "circle(1.20, 0.60)\n",
        "text(1.20, 0.40, \"Line\\n(line plot)\")\n",
        "\n",
        "# Scatter plot\n",
        "circle(3.20, 1.75)\n",
        "text(3.20, 1.55, \"Markers\\n(scatter plot)\")\n",
        "\n",
        "# Grid\n",
        "circle(3.00, 3.00)\n",
        "text(3.00, 2.80, \"Grid\")\n",
        "\n",
        "# Legend\n",
        "circle(3.70, 3.80)\n",
        "text(3.70, 3.60, \"Legend\")\n",
        "\n",
        "# Axes\n",
        "circle(0.5, 0.5)\n",
        "text(0.5, 0.3, \"Axes\")\n",
        "\n",
        "# Figure\n",
        "circle(-0.3, 0.65)\n",
        "text(-0.3, 0.45, \"Figure\")\n",
        "\n",
        "color = 'blue'\n",
        "ax.annotate('Spines', xy=(4.0, 0.35), xytext=(3.3, 0.5),\n",
        "            weight='bold', color=color,\n",
        "            arrowprops=dict(arrowstyle='->',\n",
        "                            connectionstyle=\"arc3\",\n",
        "                            color=color))\n",
        "\n",
        "ax.annotate('', xy=(3.15, 0.0), xytext=(3.45, 0.45),\n",
        "            weight='bold', color=color,\n",
        "            arrowprops=dict(arrowstyle='->',\n",
        "                            connectionstyle=\"arc3\",\n",
        "                            color=color))\n",
        "\n",
        "ax.text(4.0, -0.4, \"Made with https://matplotlib.org\",\n",
        "        fontsize=10, ha=\"right\", color='.5')\n",
        "\n",
        "plt.show()"
      ],
      "execution_count": null,
      "outputs": [
        {
          "output_type": "display_data",
          "data": {
            "image/png": "[encoded data removed]",
            "text/plain": [
              "<Figure size 576x576 with 1 Axes>"
            ]
          },
          "metadata": {
            "tags": [],
            "needs_background": "light"
          }
        }
      ]
    },
    {
      "cell_type": "markdown",
      "metadata": {
        "id": "3sjW-Nx2rvyK"
      },
      "source": [
        "fontes:\n",
        "\n",
        "* [Matplotlib](https://matplotlib.org/stable/tutorials/introductory/usage.html#sphx-glr-tutorials-introductory-usage-py) \n",
        "\n",
        "* [anatomia de um gráfico](https://matplotlib.org/stable/gallery/showcase/anatomy.html?highlight=anatomy)\n",
        "\n",
        "* Para conhecer melhor o Matplotlib: [Real Python](https://realpython.com/python-matplotlib-guide/)\n"
      ]
    },
    {
      "cell_type": "markdown",
      "metadata": {
        "id": "2S6wg5zT_fqM"
      },
      "source": [
        "## Tipos de gráficos\n",
        "\n",
        "Existem vários tipo de gráficos para nos ajudar a representar nossos dados.\n",
        "\n",
        "**Tipos de gráficos (plots) mais populares**\n",
        "\n",
        "- `line` : line plot (default)\n",
        "- `bar` : vertical bar plot\n",
        "- `barh` : horizontal bar plot\n",
        "- `hist` : histogram\n",
        "- `box` : boxplot\n",
        "- `kde` : Kernel Density Estimation plot\n",
        "- `density` : same as 'kde'\n",
        "- `area` : area plot\n",
        "- `pie` : pie plot\n",
        "- `scatter` : scatter plot\n",
        "- `hexbin` : hexbin plot\n",
        "\n",
        "\n",
        "\n",
        "<center><img src=\"https://miro.medium.com/max/1838/0*FUZYhPTfKKJjAHPk.\" height=\"600px\"></center>\n"
      ]
    },
    {
      "cell_type": "markdown",
      "metadata": {
        "id": "wu-s2hxKawgq"
      },
      "source": [
        "# Vamos partir para a prática?\n",
        "\n"
      ]
    },
    {
      "cell_type": "code",
      "metadata": {
        "id": "jptbCH94avcl"
      },
      "source": [
        "#importando a biblioteca Matplotlib\n",
        "\n",
        "import matplotlib.pyplot as plt"
      ],
      "execution_count": 1,
      "outputs": []
    },
    {
      "cell_type": "markdown",
      "metadata": {
        "id": "zrHTafsgkETY"
      },
      "source": [
        "Para plotar um gráfico é muito simples, basta eu usar a função `plot()`."
      ]
    },
    {
      "cell_type": "code",
      "metadata": {
        "id": "CdNQixVxdu7I"
      },
      "source": [
        "plt.plot([1,2,3,4,5])\n",
        "plt.show()"
      ],
      "execution_count": null,
      "outputs": []
    },
    {
      "cell_type": "code",
      "metadata": {
        "id": "5kktGAWL2zAN"
      },
      "source": [
        "semana = ['segunda', 'terça', 'quarta', 'quinta', 'sexta']\n",
        "valores = [1235, 4321, 5325, 1234, 6785]\n",
        "\n",
        "plt.plot(semana, valores, 'o-', color='blue')\n",
        "plt.show()"
      ],
      "execution_count": null,
      "outputs": []
    },
    {
      "cell_type": "markdown",
      "metadata": {
        "id": "LEdDZEA4e7Vu"
      },
      "source": [
        "Vamos deixar nosso gráfico mais interessante. Vamos começar importando a biblioteca Numpy para gerar valores aleatórios e depois plotaremos esses valores em um gráfico."
      ]
    },
    {
      "cell_type": "code",
      "metadata": {
        "id": "MKt7KW-Fdx-K"
      },
      "source": [
        "import numpy as np"
      ],
      "execution_count": null,
      "outputs": []
    },
    {
      "cell_type": "code",
      "metadata": {
        "id": "c48nu-F0dx04"
      },
      "source": [
        "# gera valores aleatórios\n",
        "\n",
        "x = np.arange(20)\n",
        "y = np.random.randint(1,100, size=20)\n",
        "\n",
        "#plotando os dados\n",
        "\n",
        "plt.plot(x, y, label=\"linha azul\")\n",
        "plt.title(\"Título do Gráfico\") #cria um título para o meu plot\n",
        "plt.xlabel(\"Valores do eixo X\") #cria um label para o eixo x\n",
        "plt.ylabel(\"Valores do eixo Y\") #cria um label para o eixo y\n",
        "plt.legend() #mostra a legenda\n",
        "\n",
        "plt.show() #exibe o gráfico"
      ],
      "execution_count": null,
      "outputs": []
    },
    {
      "cell_type": "code",
      "metadata": {
        "id": "FOSidADv5vhs"
      },
      "source": [
        " #gera valores aleatórios\n",
        "\n",
        "x1 = np.arange(20)\n",
        "y1 = np.random.randint(1,100, size=20)\n",
        "\n",
        "x2 = np.arange(20)\n",
        "y2 = np.random.randint(1,100, size=20)\n",
        "\n",
        "\n",
        "#plotando os dados\n",
        "\n",
        "plt.plot(x1, y1, 'r-', label=\"linha vermelha\")\n",
        "plt.plot(x2, y2, 'g--', label=\"linha verde\")\n",
        "plt.title(\"Título do Gráfico\") #cria um título para o meu plot\n",
        "plt.xlabel(\"Valores do eixo X\") #cria um label para o eixo x\n",
        "plt.ylabel(\"Valores do eixo Y\") #cria um label para o eixo y\n",
        "plt.axis([0,20, 0, 120])\n",
        "plt.legend() #mostra a legenda\n",
        "\n",
        "plt.show() #exibe o gráfico"
      ],
      "execution_count": null,
      "outputs": []
    },
    {
      "cell_type": "markdown",
      "metadata": {
        "id": "-XV7G4mB2Lhl"
      },
      "source": [
        "### Subplots"
      ]
    },
    {
      "cell_type": "code",
      "metadata": {
        "id": "ODby-GZgqEu9"
      },
      "source": [
        "#Exibir mais de um plot\n",
        "\n",
        "fig, fig_axes = plt.subplots(ncols=3, nrows=1, figsize=(18, 5))\n",
        "fig.suptitle('Título da minha figura', fontsize=15)\n",
        "\n",
        "\n",
        "#gráfico de cosseno\n",
        "cosseno = np.arange(1,10, 0.1)\n",
        "fig_axes[0].plot(np.cos(cosseno), 'm--')\n",
        "fig_axes[0].set_title('cosseno')\n",
        "\n",
        "#gráfico de seno\n",
        "seno = np.linspace(1,10, 100)\n",
        "fig_axes[1].plot(np.sin(seno), color='#ff7f0e')\n",
        "fig_axes[1].set_title('seno')\n",
        "\n",
        "# grafico a partir de pontos\n",
        "x = np.sort(np.random.uniform(0,1,10))\n",
        "y = x**2\n",
        "fig_axes[2].plot(x, y, 'o-');\n",
        "fig_axes[2].set_title(\"$(x,y)$ coordenadas\")\n",
        "\n",
        "\n",
        "\n",
        "plt.show()"
      ],
      "execution_count": null,
      "outputs": []
    },
    {
      "cell_type": "markdown",
      "metadata": {
        "id": "umIciayA49St"
      },
      "source": [
        "- O *format* `fmt` é uma maneira conveniente de passar a formatação do plot em uma string.\n",
        "\n",
        "`format = '[marker][line][color]'`\n",
        "\n",
        "[matplotlib - docs](https://matplotlib.org/3.3.3/api/_as_gen/matplotlib.pyplot.plot.html)"
      ]
    },
    {
      "cell_type": "markdown",
      "metadata": {
        "id": "U2pHa5mG6x4B"
      },
      "source": [
        "## Vamos praticar usando o dataset do Titanic"
      ]
    },
    {
      "cell_type": "code",
      "metadata": {
        "id": "F-c3iF4crWwJ"
      },
      "source": [
        "import pandas as pd\n",
        "\n",
        "#importar dados para o dataframe\n",
        "df = pd.read_csv(\"https://raw.githubusercontent.com/KyraPires/Visualizacao_Dados_Intro/main/titanic.csv\")\n",
        "\n",
        "#visualizando o dataframe\n",
        "df.head(5)"
      ],
      "execution_count": null,
      "outputs": []
    },
    {
      "cell_type": "code",
      "metadata": {
        "id": "IlnSkYNSlcHd"
      },
      "source": [
        "df.describe()"
      ],
      "execution_count": null,
      "outputs": []
    },
    {
      "cell_type": "code",
      "metadata": {
        "id": "ZdKvxiF_3v6Z"
      },
      "source": [
        "df.shape"
      ],
      "execution_count": null,
      "outputs": []
    },
    {
      "cell_type": "code",
      "metadata": {
        "id": "8FuJSq1rB8bd"
      },
      "source": [
        "#plotar histograma da coluna Age\n",
        "df[\"Age\"].hist(bins=20, figsize=(15,8));"
      ],
      "execution_count": null,
      "outputs": []
    },
    {
      "cell_type": "code",
      "metadata": {
        "id": "Q-XQovtAEHyR"
      },
      "source": [
        "df[\"Age\"].sort_values().unique()\n"
      ],
      "execution_count": null,
      "outputs": []
    },
    {
      "cell_type": "code",
      "metadata": {
        "id": "95nGHMHaE1Yx"
      },
      "source": [
        "df[\"Fare\"].hist(bins=20, figsize=(15,8));"
      ],
      "execution_count": null,
      "outputs": []
    },
    {
      "cell_type": "markdown",
      "metadata": {
        "id": "LAlSaRg8rvyV"
      },
      "source": [
        "### Gráfico de Pizza"
      ]
    },
    {
      "cell_type": "code",
      "metadata": {
        "id": "20kZwZRqpqtc"
      },
      "source": [
        "df['Sex'].value_counts().plot.pie(figsize=(15,8));\n"
      ],
      "execution_count": null,
      "outputs": []
    },
    {
      "cell_type": "code",
      "metadata": {
        "id": "EP0EGi9trvyW"
      },
      "source": [
        "df['Sex'].value_counts()"
      ],
      "execution_count": null,
      "outputs": []
    },
    {
      "cell_type": "code",
      "metadata": {
        "id": "97qyh-GPrvyW"
      },
      "source": [
        "df_group_sex_pclass = df.groupby([\"Sex\", \"Pclass\"])[\"PassengerId\"].count().unstack('Sex')\n",
        "df_group_sex_pclass"
      ],
      "execution_count": null,
      "outputs": []
    },
    {
      "cell_type": "code",
      "metadata": {
        "id": "x18SJDnirvyX"
      },
      "source": [
        "df_group_sex_pclass.plot.pie(subplots=True, figsize=(15,8));\n",
        "#autopct='%.2f'"
      ],
      "execution_count": null,
      "outputs": []
    },
    {
      "cell_type": "markdown",
      "metadata": {
        "id": "Frw4Tv7MrvyX"
      },
      "source": [
        "Cuidado ao usar um gráfico de pizza, pois ele pode trazer pouco significado e esconder dados, principalmente quando existem muitas divisões."
      ]
    },
    {
      "cell_type": "markdown",
      "metadata": {
        "id": "WXNyiAuE2vsl"
      },
      "source": [
        "E se plotarmos em um gráfico de barras?"
      ]
    },
    {
      "cell_type": "code",
      "metadata": {
        "id": "l9VUy93y2szX"
      },
      "source": [
        "df_group_sex_pclass.plot.bar(subplots=True, figsize=(15,8));"
      ],
      "execution_count": null,
      "outputs": []
    },
    {
      "cell_type": "markdown",
      "metadata": {
        "id": "1PmFViWp2tKL"
      },
      "source": [
        "**Obs.:** Se atente sempre aos valores do `eixo X e Y` para que seus gráficos não fiquem passíveis de falsas interpretações"
      ]
    },
    {
      "cell_type": "markdown",
      "metadata": {
        "id": "8R4ol2isrvyX"
      },
      "source": [
        "### Boxplot\n",
        "Vamos analisar mais a fundo a distribuição dos nossos dados utilizando o gráfico `boxplot`, ou gráfico de caixa."
      ]
    },
    {
      "cell_type": "code",
      "metadata": {
        "id": "qrSgbWa6rvyY"
      },
      "source": [
        "df.boxplot('Age', figsize=(10,8));"
      ],
      "execution_count": null,
      "outputs": []
    },
    {
      "cell_type": "code",
      "metadata": {
        "id": "xPOZQrQXrvyY"
      },
      "source": [
        "df.boxplot('Fare', by='Pclass', figsize=(10,8));"
      ],
      "execution_count": null,
      "outputs": []
    },
    {
      "cell_type": "markdown",
      "metadata": {
        "id": "SFz1BtC6rvyY"
      },
      "source": [
        "### Gráfico de dispersão (scatter plot)\n"
      ]
    },
    {
      "cell_type": "code",
      "metadata": {
        "id": "ipCX5Wz7rvyZ"
      },
      "source": [
        "colunas=['sepala_comp', 'sepala_larg', 'petala_comp', 'petala_larg', 'especie']\n",
        "iris = pd.read_csv('https://raw.githubusercontent.com/KyraPires/Visualizacao_Dados_Intro/main/Iris.csv', header=0, names=colunas)\n",
        "iris.head()"
      ],
      "execution_count": null,
      "outputs": []
    },
    {
      "cell_type": "code",
      "metadata": {
        "id": "wz3TfR1srvyZ"
      },
      "source": [
        "import seaborn as sns\n",
        "\n",
        "fig= plt.subplots(figsize=(15,8))\n",
        "sns.scatterplot(data=iris, x='petala_comp', y='petala_larg', hue=\"especie\");"
      ],
      "execution_count": null,
      "outputs": []
    },
    {
      "cell_type": "code",
      "metadata": {
        "id": "TMAmyt-AoXY7"
      },
      "source": [
        "sns.pairplot(iris, hue='especie', palette='rocket', height=3.5);\n"
      ],
      "execution_count": null,
      "outputs": []
    },
    {
      "cell_type": "markdown",
      "metadata": {
        "id": "BPNHfTh42ewE"
      },
      "source": [
        "### Correlação"
      ]
    },
    {
      "cell_type": "code",
      "metadata": {
        "id": "GeehXfDqrvya"
      },
      "source": [
        "correlacao = iris[:-1].corr()\n",
        "correlacao"
      ],
      "execution_count": null,
      "outputs": []
    },
    {
      "cell_type": "markdown",
      "metadata": {
        "id": "jkyvetQ62i7I"
      },
      "source": [
        "### Heatmap"
      ]
    },
    {
      "cell_type": "code",
      "metadata": {
        "id": "u_cELf95rvya"
      },
      "source": [
        "f, ax = plt.subplots(figsize=(15, 10))\n",
        "sns.heatmap(iris.corr(), cmap=\"YlGnBu\", center=0, vmin=-1, vmax=1,annot=True);"
      ],
      "execution_count": null,
      "outputs": []
    }
  ]
}